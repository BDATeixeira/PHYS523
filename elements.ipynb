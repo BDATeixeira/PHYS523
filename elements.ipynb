{
 "cells": [
  {
   "cell_type": "code",
   "execution_count": 14,
   "metadata": {},
   "outputs": [],
   "source": [
    "import numpy as np\n",
    "import matplotlib.pyplot as plt\n",
    "import scipy as sp\n",
    "from scipy.stats import hmean"
   ]
  },
  {
   "cell_type": "code",
   "execution_count": 1,
   "metadata": {},
   "outputs": [
    {
     "name": "stdout",
     "output_type": "stream",
     "text": [
      "Bernardo Teixeira\n"
     ]
    }
   ],
   "source": [
    "x= 'Bernardo Teixeira'\n",
    "print(x)"
   ]
  },
  {
   "cell_type": "code",
   "execution_count": 18,
   "metadata": {},
   "outputs": [
    {
     "name": "stdout",
     "output_type": "stream",
     "text": [
      "[36 49 53 67 27 99 28 90 71 61]\n",
      "58.1\n",
      "48.44476972535327\n",
      "53.23333728239649\n"
     ]
    }
   ],
   "source": [
    "y= np.random.randint(1,100,10)\n",
    "print(y)\n",
    "# aritmethic mean\n",
    "yam= np.mean(y)\n",
    "print(yam)\n",
    "#harmonic mean\n",
    "yhm=sp.stats.hmean(y)\n",
    "print(yhm)\n",
    "#geometric mean\n",
    "ygm=sp.stats.gmean(y)\n",
    "print(ygm)"
   ]
  },
  {
   "cell_type": "code",
   "execution_count": 29,
   "metadata": {},
   "outputs": [
    {
     "name": "stdout",
     "output_type": "stream",
     "text": [
      "3628800\n"
     ]
    }
   ],
   "source": [
    "f = np.math.factorial(10)\n",
    "print (f)"
   ]
  },
  {
   "cell_type": "code",
   "execution_count": 45,
   "metadata": {},
   "outputs": [
    {
     "name": "stdout",
     "output_type": "stream",
     "text": [
      "[0.51834664 0.13999397 0.98858539 0.55852128 0.37305254 0.49501569\n",
      " 0.93479567 0.35583464 0.08710345 0.10852232]\n",
      "0.45597715948226625\n",
      "0.3004015691283304\n"
     ]
    }
   ],
   "source": [
    "s = np.random.rand(10)\n",
    "print(s)\n",
    "mean = np.mean(s)\n",
    "print(mean)\n",
    "std = np.std(s)\n",
    "print(std)"
   ]
  },
  {
   "cell_type": "code",
   "execution_count": null,
   "metadata": {},
   "outputs": [],
   "source": []
  }
 ],
 "metadata": {
  "kernelspec": {
   "display_name": "Python 3",
   "language": "python",
   "name": "python3"
  },
  "language_info": {
   "codemirror_mode": {
    "name": "ipython",
    "version": 3
   },
   "file_extension": ".py",
   "mimetype": "text/x-python",
   "name": "python",
   "nbconvert_exporter": "python",
   "pygments_lexer": "ipython3",
   "version": "3.8.3"
  }
 },
 "nbformat": 4,
 "nbformat_minor": 4
}
